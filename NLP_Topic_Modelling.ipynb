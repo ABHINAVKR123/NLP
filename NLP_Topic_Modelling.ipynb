{
  "nbformat": 4,
  "nbformat_minor": 0,
  "metadata": {
    "colab": {
      "provenance": []
    },
    "kernelspec": {
      "name": "python3",
      "display_name": "Python 3"
    },
    "language_info": {
      "name": "python"
    }
  },
  "cells": [
    {
      "cell_type": "code",
      "execution_count": null,
      "metadata": {
        "id": "nYMqrwsgrwf7"
      },
      "outputs": [],
      "source": [
        "from sklearn.feature_extraction.text import TfidfVectorizer\n",
        "from sklearn.decomposition import TruncatedSVD"
      ]
    },
    {
      "cell_type": "code",
      "source": [
        "documents = [\n",
        "    \"Cats like milk\",\n",
        "    \"Dogs like bones\",\n",
        "    \"Cats and dogs are pets\",\n",
        "    \"Milk is good for health\",\n",
        "    \"Bones are part of the skeletal system\"\n",
        "]"
      ],
      "metadata": {
        "id": "flSBq3p3sB9y"
      },
      "execution_count": null,
      "outputs": []
    },
    {
      "cell_type": "code",
      "source": [
        "vectorizer = TfidfVectorizer(stop_words = 'english')\n",
        "X_tfidf = vectorizer.fit_transform(documents)"
      ],
      "metadata": {
        "id": "1ttz_g6DtF1r"
      },
      "execution_count": null,
      "outputs": []
    },
    {
      "cell_type": "code",
      "source": [
        "vectorizer.get_feature_names_out()"
      ],
      "metadata": {
        "colab": {
          "base_uri": "https://localhost:8080/"
        },
        "id": "rVHeaso_tQag",
        "outputId": "159f676d-c185-429c-8bc8-dc6475413277"
      },
      "execution_count": null,
      "outputs": [
        {
          "output_type": "execute_result",
          "data": {
            "text/plain": [
              "array(['bones', 'cats', 'dogs', 'good', 'health', 'like', 'milk', 'pets',\n",
              "       'skeletal'], dtype=object)"
            ]
          },
          "metadata": {},
          "execution_count": 4
        }
      ]
    },
    {
      "cell_type": "code",
      "source": [
        "lsa_model = TruncatedSVD(n_components = 2, random_state=42)\n",
        "x_lsa = lsa_model.fit_transform(X_tfidf)"
      ],
      "metadata": {
        "id": "X5OWd2TUtYBH"
      },
      "execution_count": null,
      "outputs": []
    },
    {
      "cell_type": "code",
      "source": [
        "print(\"LSA Output (Reduced Dimension): \\n\",x_lsa)"
      ],
      "metadata": {
        "colab": {
          "base_uri": "https://localhost:8080/"
        },
        "id": "X3h1kpVftmZm",
        "outputId": "3a11bdf8-4a10-4398-e77e-62e73fed5644"
      },
      "execution_count": null,
      "outputs": [
        {
          "output_type": "stream",
          "name": "stdout",
          "text": [
            "LSA Output (Reduced Dimension): \n",
            " [[ 0.7209472  -0.43374813]\n",
            " [ 0.77550553  0.37173798]\n",
            " [ 0.62446251 -0.09647106]\n",
            " [ 0.28034039 -0.62879744]\n",
            " [ 0.38212248  0.68288187]]\n"
          ]
        }
      ]
    },
    {
      "cell_type": "code",
      "source": [
        "terms = vectorizer.get_feature_names_out()\n",
        "for i, comp in enumerate(lsa_model.components_):\n",
        "  terms_comp = zip(terms, comp)\n",
        "  sorted_terms = sorted(terms_comp, key = lambda x: x[1], reverse = True)[:5]\n",
        "  print(f\"Topic {i}:\")\n",
        "  for term in sorted_terms:\n",
        "    print(term[0], end = '')\n",
        "  print(\"\\n\")"
      ],
      "metadata": {
        "colab": {
          "base_uri": "https://localhost:8080/"
        },
        "id": "oyYhFsocuCbr",
        "outputId": "976d522f-6014-46cf-f350-17f424be05dd"
      },
      "execution_count": null,
      "outputs": [
        {
          "output_type": "stream",
          "name": "stdout",
          "text": [
            "Topic 0:\n",
            "likedogscatsbonesmilk\n",
            "\n",
            "Topic 1:\n",
            "bonesskeletaldogslikepets\n",
            "\n"
          ]
        }
      ]
    },
    {
      "cell_type": "code",
      "source": [
        "import re\n",
        "import numpy as np\n",
        "import pandas as pd\n",
        "from scipy import linalg, spatial\n",
        "from sklearn.cluster import KMeans\n",
        "from sklearn.decomposition import PCA, SparsePCA,TruncatedSVD\n",
        "from sklearn.feature_extraction.text import CountVectorizer, TfidfTransformer, TfidfVectorizer\n",
        "from sklearn.utils.extmath import randomized_svd\n",
        "from nltk.tokenize import word_tokenize\n",
        "from nltk.corpus import stopwords"
      ],
      "metadata": {
        "id": "afLblUaSuq2k"
      },
      "execution_count": null,
      "outputs": []
    },
    {
      "cell_type": "code",
      "source": [
        "corpus = [\n",
        "    \"With all of the critical success Downey had experienced throughout his career, he had not appeared in a blockbuster film. That changed in 2008 when Downey starred in two critically and commercially successful films, Iron Man and Tropic Thunder. In the article Ben Stiller wrote for Downey's entry in the 2008 edition of The Time 100, he offered an observation on Downey's commercially successful summer at the box office.\",\n",
        "    \"On June 14, 2010, Downey and his wife Susan opened their own production company called Team Downey. Their first project was The Judge.\",\n",
        "    \"Robert John Downey Jr. is an American actor, producer, and singer. His career has been characterized by critical and popular success in his youth, followed by a period of substance abuse and legal troubles, before a resurgence of commercial success in middle age.\",\n",
        "    \"In 2008, Downey was named by Time magazine among the 100 most influential people in the world, and from 2013 to 2015, he was listed by Forbes as Hollywood's highest-paid actor. His films have grossed over $14.4 billion worldwide, making him the second highest-grossing box-office star of all time.\"\n",
        "          ]"
      ],
      "metadata": {
        "id": "9kBpeh88vo4t"
      },
      "execution_count": null,
      "outputs": []
    },
    {
      "cell_type": "code",
      "source": [
        "import nltk\n",
        "nltk.download('stopwords')\n",
        "nltk.download('punkt_tab')\n",
        "\n",
        "stop_words = set(stopwords.words('english'))\n",
        "filtered_document = []\n",
        "filtered_text = []\n",
        "\n",
        "for document in corpus:\n",
        "  clean_document = \" \".join(re.sub(r\"[^A-Za-z\\-]+\",\" \",document).split())\n",
        "  document_tokens = word_tokenize(clean_document)\n",
        "  for word in document_tokens:\n",
        "    if word not in stop_words:\n",
        "      filtered_document.append(word)\n",
        "  filtered_text.append(' '.join(filtered_document))"
      ],
      "metadata": {
        "colab": {
          "base_uri": "https://localhost:8080/"
        },
        "id": "LiBmRiYAwZ0H",
        "outputId": "82fe35ef-9b50-48c9-b976-5e4715e1326d"
      },
      "execution_count": null,
      "outputs": [
        {
          "output_type": "stream",
          "name": "stderr",
          "text": [
            "[nltk_data] Downloading package stopwords to /root/nltk_data...\n",
            "[nltk_data]   Unzipping corpora/stopwords.zip.\n",
            "[nltk_data] Downloading package punkt_tab to /root/nltk_data...\n",
            "[nltk_data]   Unzipping tokenizers/punkt_tab.zip.\n"
          ]
        }
      ]
    },
    {
      "cell_type": "code",
      "source": [
        "filtered_document"
      ],
      "metadata": {
        "colab": {
          "base_uri": "https://localhost:8080/"
        },
        "id": "NWxECZS5xHkz",
        "outputId": "836f3198-e14d-4f3c-f8c8-31efdda56fd6"
      },
      "execution_count": null,
      "outputs": [
        {
          "output_type": "execute_result",
          "data": {
            "text/plain": [
              "['With',\n",
              " 'critical',\n",
              " 'success',\n",
              " 'Downey',\n",
              " 'experienced',\n",
              " 'throughout',\n",
              " 'career',\n",
              " 'appeared',\n",
              " 'blockbuster',\n",
              " 'film',\n",
              " 'That',\n",
              " 'changed',\n",
              " 'Downey',\n",
              " 'starred',\n",
              " 'two',\n",
              " 'critically',\n",
              " 'commercially',\n",
              " 'successful',\n",
              " 'films',\n",
              " 'Iron',\n",
              " 'Man',\n",
              " 'Tropic',\n",
              " 'Thunder',\n",
              " 'In',\n",
              " 'article',\n",
              " 'Ben',\n",
              " 'Stiller',\n",
              " 'wrote',\n",
              " 'Downey',\n",
              " 'entry',\n",
              " 'edition',\n",
              " 'The',\n",
              " 'Time',\n",
              " 'offered',\n",
              " 'observation',\n",
              " 'Downey',\n",
              " 'commercially',\n",
              " 'successful',\n",
              " 'summer',\n",
              " 'box',\n",
              " 'office',\n",
              " 'On',\n",
              " 'June',\n",
              " 'Downey',\n",
              " 'wife',\n",
              " 'Susan',\n",
              " 'opened',\n",
              " 'production',\n",
              " 'company',\n",
              " 'called',\n",
              " 'Team',\n",
              " 'Downey',\n",
              " 'Their',\n",
              " 'first',\n",
              " 'project',\n",
              " 'The',\n",
              " 'Judge',\n",
              " 'Robert',\n",
              " 'John',\n",
              " 'Downey',\n",
              " 'Jr',\n",
              " 'American',\n",
              " 'actor',\n",
              " 'producer',\n",
              " 'singer',\n",
              " 'His',\n",
              " 'career',\n",
              " 'characterized',\n",
              " 'critical',\n",
              " 'popular',\n",
              " 'success',\n",
              " 'youth',\n",
              " 'followed',\n",
              " 'period',\n",
              " 'substance',\n",
              " 'abuse',\n",
              " 'legal',\n",
              " 'troubles',\n",
              " 'resurgence',\n",
              " 'commercial',\n",
              " 'success',\n",
              " 'middle',\n",
              " 'age',\n",
              " 'In',\n",
              " 'Downey',\n",
              " 'named',\n",
              " 'Time',\n",
              " 'magazine',\n",
              " 'among',\n",
              " 'influential',\n",
              " 'people',\n",
              " 'world',\n",
              " 'listed',\n",
              " 'Forbes',\n",
              " 'Hollywood',\n",
              " 'highest-paid',\n",
              " 'actor',\n",
              " 'His',\n",
              " 'films',\n",
              " 'grossed',\n",
              " 'billion',\n",
              " 'worldwide',\n",
              " 'making',\n",
              " 'second',\n",
              " 'highest-grossing',\n",
              " 'box-office',\n",
              " 'star',\n",
              " 'time']"
            ]
          },
          "metadata": {},
          "execution_count": 11
        }
      ]
    },
    {
      "cell_type": "code",
      "source": [
        "filtered_text"
      ],
      "metadata": {
        "colab": {
          "base_uri": "https://localhost:8080/"
        },
        "id": "-iknbePdxZJy",
        "outputId": "5c2f637f-2bf0-4e5e-a4c8-6565df1508db"
      },
      "execution_count": null,
      "outputs": [
        {
          "output_type": "execute_result",
          "data": {
            "text/plain": [
              "['With critical success Downey experienced throughout career appeared blockbuster film That changed Downey starred two critically commercially successful films Iron Man Tropic Thunder In article Ben Stiller wrote Downey entry edition The Time offered observation Downey commercially successful summer box office',\n",
              " 'With critical success Downey experienced throughout career appeared blockbuster film That changed Downey starred two critically commercially successful films Iron Man Tropic Thunder In article Ben Stiller wrote Downey entry edition The Time offered observation Downey commercially successful summer box office On June Downey wife Susan opened production company called Team Downey Their first project The Judge',\n",
              " 'With critical success Downey experienced throughout career appeared blockbuster film That changed Downey starred two critically commercially successful films Iron Man Tropic Thunder In article Ben Stiller wrote Downey entry edition The Time offered observation Downey commercially successful summer box office On June Downey wife Susan opened production company called Team Downey Their first project The Judge Robert John Downey Jr American actor producer singer His career characterized critical popular success youth followed period substance abuse legal troubles resurgence commercial success middle age',\n",
              " 'With critical success Downey experienced throughout career appeared blockbuster film That changed Downey starred two critically commercially successful films Iron Man Tropic Thunder In article Ben Stiller wrote Downey entry edition The Time offered observation Downey commercially successful summer box office On June Downey wife Susan opened production company called Team Downey Their first project The Judge Robert John Downey Jr American actor producer singer His career characterized critical popular success youth followed period substance abuse legal troubles resurgence commercial success middle age In Downey named Time magazine among influential people world listed Forbes Hollywood highest-paid actor His films grossed billion worldwide making second highest-grossing box-office star time']"
            ]
          },
          "metadata": {},
          "execution_count": 12
        }
      ]
    },
    {
      "cell_type": "code",
      "source": [
        "vectorizer = CountVectorizer()\n",
        "counts_matrix = vectorizer.fit_transform(filtered_text)\n",
        "feature_names = vectorizer.get_feature_names_out()\n",
        "count_matrix_df = pd.DataFrame(counts_matrix.toarray(), columns = feature_names)\n",
        "count_matrix_df.index = ['Document 1' , 'Document 2','Document 3','Document 4']\n",
        "print(\"Word Frequency matrix: \\n\", count_matrix_df)"
      ],
      "metadata": {
        "colab": {
          "base_uri": "https://localhost:8080/"
        },
        "id": "yNpASUpqxbth",
        "outputId": "6ca7009c-60e3-4cd8-f8ff-13920db6cb7c"
      },
      "execution_count": null,
      "outputs": [
        {
          "output_type": "stream",
          "name": "stdout",
          "text": [
            "Word Frequency matrix: \n",
            "             abuse  actor  age  american  among  appeared  article  ben  \\\n",
            "Document 1      0      0    0         0      0         1        1    1   \n",
            "Document 2      0      0    0         0      0         1        1    1   \n",
            "Document 3      1      1    1         1      0         1        1    1   \n",
            "Document 4      1      2    1         1      1         1        1    1   \n",
            "\n",
            "            billion  blockbuster  ...  time  tropic  troubles  two  wife  \\\n",
            "Document 1        0            1  ...     1       1         0    1     0   \n",
            "Document 2        0            1  ...     1       1         0    1     1   \n",
            "Document 3        0            1  ...     1       1         1    1     1   \n",
            "Document 4        1            1  ...     3       1         1    1     1   \n",
            "\n",
            "            with  world  worldwide  wrote  youth  \n",
            "Document 1     1      0          0      1      0  \n",
            "Document 2     1      0          0      1      0  \n",
            "Document 3     1      0          0      1      1  \n",
            "Document 4     1      1          1      1      1  \n",
            "\n",
            "[4 rows x 88 columns]\n"
          ]
        }
      ]
    },
    {
      "cell_type": "code",
      "source": [
        "pip install --upgrade scikit-learn\n"
      ],
      "metadata": {
        "colab": {
          "base_uri": "https://localhost:8080/"
        },
        "id": "fkF-7roZznj9",
        "outputId": "15817a70-d792-4e1f-880e-371534a0660a"
      },
      "execution_count": null,
      "outputs": [
        {
          "output_type": "stream",
          "name": "stdout",
          "text": [
            "Requirement already satisfied: scikit-learn in /usr/local/lib/python3.11/dist-packages (1.6.1)\n",
            "Requirement already satisfied: numpy>=1.19.5 in /usr/local/lib/python3.11/dist-packages (from scikit-learn) (2.0.2)\n",
            "Requirement already satisfied: scipy>=1.6.0 in /usr/local/lib/python3.11/dist-packages (from scikit-learn) (1.14.1)\n",
            "Requirement already satisfied: joblib>=1.2.0 in /usr/local/lib/python3.11/dist-packages (from scikit-learn) (1.4.2)\n",
            "Requirement already satisfied: threadpoolctl>=3.1.0 in /usr/local/lib/python3.11/dist-packages (from scikit-learn) (3.6.0)\n"
          ]
        }
      ]
    },
    {
      "cell_type": "code",
      "source": [
        "vectorizer = TfidfVectorizer(stop_words = 'english')\n",
        "X = vectorizer.fit_transform(filtered_text)\n",
        "print(X.shape)\n",
        "print(feature_names)\n",
        "num_clusters = 4\n",
        "km = KMeans(n_clusters = num_clusters)\n",
        "km.fit(X)\n",
        "clusters = km.labels_.tolist()\n",
        "print(clusters)"
      ],
      "metadata": {
        "colab": {
          "base_uri": "https://localhost:8080/"
        },
        "id": "esHzKwpJyPSk",
        "outputId": "f5897776-d045-4ceb-8ab7-0cabe4166d5d"
      },
      "execution_count": null,
      "outputs": [
        {
          "output_type": "stream",
          "name": "stdout",
          "text": [
            "(4, 77)\n",
            "['abuse' 'actor' 'age' 'american' 'among' 'appeared' 'article' 'ben'\n",
            " 'billion' 'blockbuster' 'box' 'called' 'career' 'changed' 'characterized'\n",
            " 'commercial' 'commercially' 'company' 'critical' 'critically' 'downey'\n",
            " 'edition' 'entry' 'experienced' 'film' 'films' 'first' 'followed'\n",
            " 'forbes' 'grossed' 'grossing' 'highest' 'his' 'hollywood' 'in'\n",
            " 'influential' 'iron' 'john' 'jr' 'judge' 'june' 'legal' 'listed'\n",
            " 'magazine' 'making' 'man' 'middle' 'named' 'observation' 'offered'\n",
            " 'office' 'on' 'opened' 'paid' 'people' 'period' 'popular' 'producer'\n",
            " 'production' 'project' 'resurgence' 'robert' 'second' 'singer' 'star'\n",
            " 'starred' 'stiller' 'substance' 'success' 'successful' 'summer' 'susan'\n",
            " 'team' 'that' 'the' 'their' 'throughout' 'thunder' 'time' 'tropic'\n",
            " 'troubles' 'two' 'wife' 'with' 'world' 'worldwide' 'wrote' 'youth']\n",
            "[3, 1, 0, 2]\n"
          ]
        }
      ]
    },
    {
      "cell_type": "code",
      "source": [
        "U, Sigma, VT = randomized_svd(X, n_components = 10, n_iter = 100, random_state = 122)\n",
        "svd_model = TruncatedSVD(n_components = 2, algorithm = 'randomized',n_iter = 100, random_state = 122)\n",
        "svd_model.fit(X)\n",
        "print(U.shape)\n",
        "\n",
        "for i, comp in enumerate(VT):\n",
        "  terms_comp = zip(feature_names, comp)\n",
        "  sorted_terms = sorted(terms_comp, key= lambda x:x[1], reverse=True)[:7]\n",
        "  print(\"Cluster \"+str(i)+\":\")\n",
        "  for t in sorted_terms:\n",
        "    print(t[0])\n",
        "  print(\" \")"
      ],
      "metadata": {
        "colab": {
          "base_uri": "https://localhost:8080/"
        },
        "id": "92l3YBe-zFad",
        "outputId": "578cc69a-6b4c-4d7f-a9fc-9d2ec70356a6"
      },
      "execution_count": null,
      "outputs": [
        {
          "output_type": "stream",
          "name": "stdout",
          "text": [
            "(4, 4)\n",
            "Cluster 0:\n",
            "critically\n",
            "commercial\n",
            "star\n",
            "singer\n",
            "called\n",
            "company\n",
            "successful\n",
            " \n",
            "Cluster 1:\n",
            "actor\n",
            "grossed\n",
            "age\n",
            "american\n",
            "changed\n",
            "characterized\n",
            "films\n",
            " \n",
            "Cluster 2:\n",
            "box\n",
            "commercially\n",
            "influential\n",
            "iron\n",
            "named\n",
            "paid\n",
            "people\n",
            " \n",
            "Cluster 3:\n",
            "box\n",
            "commercially\n",
            "influential\n",
            "iron\n",
            "named\n",
            "paid\n",
            "people\n",
            " \n"
          ]
        }
      ]
    },
    {
      "cell_type": "code",
      "source": [
        "import matplotlib.pyplot as plt\n",
        "import numpy as np\n",
        "\n",
        "# VT: (n_components=10 × n_features)\n",
        "# feature_names: list/array of your vocabulary\n",
        "n_top = 7\n",
        "\n",
        "for i, comp in enumerate(VT):\n",
        "    # find indices of the top‐n weights\n",
        "    top_idx = np.argsort(comp)[-n_top:][::-1]\n",
        "    top_terms = [feature_names[j] for j in top_idx]\n",
        "    top_weights = comp[top_idx]\n",
        "\n",
        "    plt.figure()\n",
        "    plt.barh(top_terms, top_weights)\n",
        "    plt.gca().invert_yaxis()       # highest weight on top\n",
        "    plt.xlabel(\"Term weight\")\n",
        "    plt.title(f\"Component {i+1} Top {n_top} Terms\")\n",
        "    plt.show()\n"
      ],
      "metadata": {
        "colab": {
          "base_uri": "https://localhost:8080/",
          "height": 1000
        },
        "id": "bSLj0Tpg1bDR",
        "outputId": "841c1975-d1e3-4a61-f249-439f8d14d5a3"
      },
      "execution_count": null,
      "outputs": [
        {
          "output_type": "display_data",
          "data": {
            "text/plain": [
              "<Figure size 640x480 with 1 Axes>"
            ],
            "image/png": "[encoded data removed]"
          },
          "metadata": {}
        },
        {
          "output_type": "display_data",
          "data": {
            "text/plain": [
              "<Figure size 640x480 with 1 Axes>"
            ],
            "image/png": "[encoded data removed]"
          },
          "metadata": {}
        },
        {
          "output_type": "display_data",
          "data": {
            "text/plain": [
              "<Figure size 640x480 with 1 Axes>"
            ],
            "image/png": "[encoded data removed]"
          },
          "metadata": {}
        },
        {
          "output_type": "display_data",
          "data": {
            "text/plain": [
              "<Figure size 640x480 with 1 Axes>"
            ],
            "image/png": "[encoded data removed]"
          },
          "metadata": {}
        }
      ]
    },
    {
      "cell_type": "code",
      "source": [],
      "metadata": {
        "id": "vZtkf3HD20K0"
      },
      "execution_count": null,
      "outputs": []
    }
  ]
}